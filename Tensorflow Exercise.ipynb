{
 "cells": [
  {
   "cell_type": "code",
   "execution_count": 1,
   "metadata": {},
   "outputs": [],
   "source": [
    "import numpy as np\n",
    "import tensorflow as tf\n",
    "import matplotlib.pyplot as plt\n",
    "%matplotlib inline"
   ]
  },
  {
   "cell_type": "code",
   "execution_count": 2,
   "metadata": {},
   "outputs": [],
   "source": [
    "sess = tf.InteractiveSession()"
   ]
  },
  {
   "cell_type": "markdown",
   "metadata": {},
   "source": [
    "Перемножим два целых числа. Например, найдем произведение $5$ и $12$."
   ]
  },
  {
   "cell_type": "code",
   "execution_count": 3,
   "metadata": {},
   "outputs": [
    {
     "name": "stdout",
     "output_type": "stream",
     "text": [
      "60\n"
     ]
    }
   ],
   "source": [
    "a = tf.placeholder('int64', name=\"input_a\")\n",
    "b = tf.placeholder('int64', name=\"input_b\")\n",
    "result = a * b\n",
    "\n",
    "print(sess.run(result, {a: 5, b: 12}))"
   ]
  },
  {
   "cell_type": "markdown",
   "metadata": {},
   "source": [
    "## Линейная регрессия"
   ]
  },
  {
   "cell_type": "markdown",
   "metadata": {},
   "source": [
    "Решим задачу восстановления коэффициентов зашумленного многочлена. Поскольку в лабораторной не сказано, какие именно данные генерировать, возьмем для примера квадратичную функцию $y = x^2 + x + 1$ и, зная ее чуть зашумленные значения на отрезке $[0,1]$, попробуем предсказать ее поведение на отрезке $[1, 1.3]$."
   ]
  },
  {
   "cell_type": "code",
   "execution_count": 5,
   "metadata": {},
   "outputs": [
    {
     "name": "stdout",
     "output_type": "stream",
     "text": [
      "loss at iter 0: 3.6958\n",
      "loss at iter 50: 0.2467\n",
      "loss at iter 100: 0.0416\n",
      "loss at iter 150: 0.0240\n",
      "loss at iter 200: 0.0183\n",
      "loss at iter 250: 0.0144\n",
      "loss at iter 300: 0.0114\n",
      "loss at iter 350: 0.0090\n",
      "loss at iter 400: 0.0072\n",
      "loss at iter 450: 0.0057\n",
      "loss at iter 500: 0.0046\n",
      "loss at iter 550: 0.0037\n",
      "loss at iter 600: 0.0031\n",
      "loss at iter 650: 0.0025\n",
      "loss at iter 700: 0.0021\n",
      "loss at iter 750: 0.0018\n",
      "loss at iter 800: 0.0016\n",
      "loss at iter 850: 0.0014\n",
      "loss at iter 900: 0.0012\n",
      "loss at iter 950: 0.0011\n",
      "loss at iter 1000: 0.0010\n"
     ]
    }
   ],
   "source": [
    "# плейсхолдеры для матрицы признаков и таргета \n",
    "input_x = tf.placeholder('float32', shape=[None, 3], name='x')\n",
    "input_y = tf.placeholder('float32', shape=[None], name='y')\n",
    "\n",
    "# вектор-переменная для весов (коэффициентов многочлена)\n",
    "weights = tf.Variable(initial_value=np.random.rand(3, 1) * 0.01, dtype='float32')\n",
    "sess.run(tf.global_variables_initializer())\n",
    "\n",
    "# Минимизируем среднеквадратичную функцию потерь. Можно еще добавить регуляризацию,\n",
    "# но в этой модельной задаче мы этого делать не будем.\n",
    "# Оптимизируем методом градиентоного спуска.\n",
    "predicted_y = tf.matmul(input_x, weights)[:, 0]\n",
    "loss = tf.reduce_mean((input_y - predicted_y) ** 2)\n",
    "train_step = tf.train.GradientDescentOptimizer(learning_rate=0.01).minimize(loss)\n",
    "\n",
    "# Задаем 100 точек на отрезке [0, 1]\n",
    "x = np.linspace(0, 1, 100)\n",
    "# Добавляем небольшой случайный нормально распределенный шум с дисперсией 0.01\n",
    "xx = x + 0.01 * np.random.normal(size=100)\n",
    "# Делаем матрицу признаков. Первый столбец - константный,\n",
    "# второй состоит из сгенерированных иксов,\n",
    "# третий - из их квадратов\n",
    "X_train = np.vstack((np.ones(100), xx, xx ** 2)).T\n",
    "# Таргет или вектор правильных ответов\n",
    "y_train = x ** 2 + x + 1\n",
    "\n",
    "# То же самое, но для теста. Возьмем 30 точек\n",
    "x = np.linspace(1, 1.3, 30)\n",
    "X_test = np.vstack((np.ones(30), x, x ** 2)).T\n",
    "\n",
    "# Обучимся за ~1000 итераций, на каждом 50-м шаге выводя значение функции потерь\n",
    "for i in range(1001):\n",
    "    loss_i, _ = sess.run([loss, train_step], {input_x: X_train, input_y: y_train})\n",
    "    if i % 50 == 0:\n",
    "        print(\"loss at iter %i: %.4f\" % (i, loss_i))"
   ]
  },
  {
   "cell_type": "markdown",
   "metadata": {},
   "source": [
    "Предскажем значения на тесте:"
   ]
  },
  {
   "cell_type": "code",
   "execution_count": 6,
   "metadata": {},
   "outputs": [],
   "source": [
    "predicted_values = sess.run(predicted_y, {input_x: X_test})"
   ]
  },
  {
   "cell_type": "code",
   "execution_count": 7,
   "metadata": {},
   "outputs": [
    {
     "data": {
      "text/plain": [
       "array([ 2.95760393,  2.98708153,  3.01675177,  3.04661489,  3.07667065,\n",
       "        3.10691905,  3.13735986,  3.16799355,  3.19881964,  3.22983837,\n",
       "        3.26104999,  3.29245424,  3.32405138,  3.35584092,  3.3878231 ,\n",
       "        3.41999793,  3.4523654 ,  3.48492551,  3.51767874,  3.55062389,\n",
       "        3.58376217,  3.61709309,  3.65061665,  3.68433285,  3.71824145,\n",
       "        3.75234318,  3.78663707,  3.82112408,  3.85580373,  3.89067578], dtype=float32)"
      ]
     },
     "execution_count": 7,
     "metadata": {},
     "output_type": "execute_result"
    }
   ],
   "source": [
    "predicted_values"
   ]
  },
  {
   "cell_type": "markdown",
   "metadata": {},
   "source": [
    "Посмотрим на графике как предсказанные значения отличаются от настоящих:"
   ]
  },
  {
   "cell_type": "code",
   "execution_count": 8,
   "metadata": {},
   "outputs": [
    {
     "data": {
      "text/plain": [
       "[<matplotlib.lines.Line2D at 0x120c7d2e8>,\n",
       " <matplotlib.lines.Line2D at 0x120c7d550>]"
      ]
     },
     "execution_count": 8,
     "metadata": {},
     "output_type": "execute_result"
    },
    {
     "data": {
      "image/png": "[encoded data removed]",
      "text/plain": [
       "<Figure size 432x288 with 1 Axes>"
      ]
     },
     "metadata": {},
     "output_type": "display_data"
    }
   ],
   "source": [
    "x = np.linspace(1,1.3,30)\n",
    "plt.plot(x, x ** 2 + x + 1, x, predicted_values)"
   ]
  },
  {
   "cell_type": "markdown",
   "metadata": {},
   "source": [
    "Выведем веса, которые выучила модель. Они должны быть близки к единицам (коэффициентам полинома, который мы восстанавливали)."
   ]
  },
  {
   "cell_type": "code",
   "execution_count": 9,
   "metadata": {},
   "outputs": [
    {
     "name": "stdout",
     "output_type": "stream",
     "text": [
      "[[ 1.01756108]\n",
      " [ 1.03989255]\n",
      " [ 0.90015042]]\n"
     ]
    }
   ],
   "source": [
    "print(weights.eval())"
   ]
  },
  {
   "cell_type": "markdown",
   "metadata": {},
   "source": [
    "## Логистическая регрессия"
   ]
  },
  {
   "cell_type": "markdown",
   "metadata": {},
   "source": [
    "Если в предыдущем задании мы решали задачу регрессии (т.е. таргет был непрерывен), то с помощью логистической регрессии мы решим задачу классификации (таргет принадлежит одному из двух классов). Cгенерируем $100$ точек на плоскости из двух нормальных распределений (график внизу). Разобьем выборку на train и test. Обучим логистическую регрессию на трейне и предскажем классы для теста.  "
   ]
  },
  {
   "cell_type": "code",
   "execution_count": 11,
   "metadata": {},
   "outputs": [
    {
     "ename": "ModuleNotFoundError",
     "evalue": "No module named 'sklearn'",
     "output_type": "error",
     "traceback": [
      "\u001b[0;31m---------------------------------------------------------------------------\u001b[0m",
      "\u001b[0;31mModuleNotFoundError\u001b[0m                       Traceback (most recent call last)",
      "\u001b[0;32m<ipython-input-11-41389ce84424>\u001b[0m in \u001b[0;36m<module>\u001b[0;34m()\u001b[0m\n\u001b[0;32m----> 1\u001b[0;31m \u001b[0;32mfrom\u001b[0m \u001b[0msklearn\u001b[0m\u001b[0;34m.\u001b[0m\u001b[0mdatasets\u001b[0m \u001b[0;32mimport\u001b[0m  \u001b[0mmake_blobs\u001b[0m\u001b[0;34m\u001b[0m\u001b[0m\n\u001b[0m\u001b[1;32m      2\u001b[0m \u001b[0;32mfrom\u001b[0m \u001b[0msklearn\u001b[0m\u001b[0;34m.\u001b[0m\u001b[0mmodel_selection\u001b[0m \u001b[0;32mimport\u001b[0m \u001b[0mtrain_test_split\u001b[0m\u001b[0;34m\u001b[0m\u001b[0m\n",
      "\u001b[0;31mModuleNotFoundError\u001b[0m: No module named 'sklearn'"
     ]
    }
   ],
   "source": [
    "from sklearn.datasets import  make_blobs\n",
    "from sklearn.model_selection import train_test_split"
   ]
  },
  {
   "cell_type": "code",
   "execution_count": 12,
   "metadata": {},
   "outputs": [
    {
     "ename": "NameError",
     "evalue": "name 'make_blobs' is not defined",
     "output_type": "error",
     "traceback": [
      "\u001b[0;31m---------------------------------------------------------------------------\u001b[0m",
      "\u001b[0;31mNameError\u001b[0m                                 Traceback (most recent call last)",
      "\u001b[0;32m<ipython-input-12-35d8dcca9800>\u001b[0m in \u001b[0;36m<module>\u001b[0;34m()\u001b[0m\n\u001b[0;32m----> 1\u001b[0;31m \u001b[0mX\u001b[0m\u001b[0;34m,\u001b[0m \u001b[0my\u001b[0m \u001b[0;34m=\u001b[0m \u001b[0mmake_blobs\u001b[0m\u001b[0;34m(\u001b[0m\u001b[0mcenters\u001b[0m\u001b[0;34m=\u001b[0m\u001b[0;36m2\u001b[0m\u001b[0;34m)\u001b[0m\u001b[0;34m\u001b[0m\u001b[0m\n\u001b[0m\u001b[1;32m      2\u001b[0m \u001b[0mX_train\u001b[0m\u001b[0;34m,\u001b[0m \u001b[0mX_test\u001b[0m\u001b[0;34m,\u001b[0m \u001b[0my_train\u001b[0m\u001b[0;34m,\u001b[0m \u001b[0my_test\u001b[0m \u001b[0;34m=\u001b[0m \u001b[0mtrain_test_split\u001b[0m\u001b[0;34m(\u001b[0m\u001b[0mX\u001b[0m\u001b[0;34m,\u001b[0m \u001b[0my\u001b[0m\u001b[0;34m)\u001b[0m\u001b[0;34m\u001b[0m\u001b[0m\n",
      "\u001b[0;31mNameError\u001b[0m: name 'make_blobs' is not defined"
     ]
    }
   ],
   "source": [
    "X, y = make_blobs(centers=2)\n",
    "X_train, X_test, y_train, y_test = train_test_split(X, y)"
   ]
  },
  {
   "cell_type": "code",
   "execution_count": 94,
   "metadata": {},
   "outputs": [
    {
     "data": {
      "text/plain": [
       "<matplotlib.collections.PathCollection at 0x7f8e4d9d7e48>"
      ]
     },
     "execution_count": 94,
     "metadata": {},
     "output_type": "execute_result"
    },
    {
     "data": {
      "image/png": "[encoded data removed]",
      "text/plain": [
       "<Figure size 432x288 with 1 Axes>"
      ]
     },
     "metadata": {},
     "output_type": "display_data"
    }
   ],
   "source": [
    "plt.scatter(X_train[:, 0], X_train[:, 1], c=y_train)"
   ]
  },
  {
   "cell_type": "code",
   "execution_count": 97,
   "metadata": {},
   "outputs": [
    {
     "name": "stdout",
     "output_type": "stream",
     "text": [
      "loss at iter 0: 0.7044\n",
      "loss at iter 100: 0.1585\n",
      "loss at iter 200: 0.1035\n",
      "loss at iter 300: 0.0804\n",
      "loss at iter 400: 0.0671\n",
      "loss at iter 500: 0.0584\n",
      "loss at iter 600: 0.0521\n",
      "loss at iter 700: 0.0473\n",
      "loss at iter 800: 0.0435\n",
      "loss at iter 900: 0.0404\n",
      "loss at iter 1000: 0.0378\n"
     ]
    }
   ],
   "source": [
    "# плейсхолдеры для матрицы признаков и таргета \n",
    "input_x = tf.placeholder('float32', shape=[None, 2], name='x')\n",
    "input_y = tf.placeholder('float32', shape=[None], name='y')\n",
    "\n",
    "# вектор-переменная для весов\n",
    "weights = tf.Variable(initial_value=np.random.rand(2, 1) * 0.01, dtype='float32')\n",
    "sess.run(tf.global_variables_initializer())\n",
    "\n",
    "# Минимизируем кросс-энтропию (функция потерь для бинарной классификации)\n",
    "predicted_y_proba = tf.nn.sigmoid(tf.matmul(input_x, weights))[:, 0]\n",
    "loss = -tf.reduce_mean(input_y * tf.log(predicted_y_proba) + (1 - input_y) * tf.log(1 - predicted_y_proba))\n",
    "train_step = tf.train.GradientDescentOptimizer(learning_rate=0.01).minimize(loss)\n",
    "\n",
    "# Обучимся за ~1000 итераций, на каждом 50-м шаге выводя значение функции потерь\n",
    "for i in range(1001):\n",
    "    loss_i, _ = sess.run([loss, train_step], {input_x: X_train, input_y: y_train})\n",
    "    if i % 100 == 0:\n",
    "        print(\"loss at iter %i: %.4f\" % (i, loss_i))"
   ]
  },
  {
   "cell_type": "code",
   "execution_count": 98,
   "metadata": {},
   "outputs": [],
   "source": [
    "predicted_values = sess.run(predicted_y_proba, {input_x: X_test})"
   ]
  },
  {
   "cell_type": "markdown",
   "metadata": {},
   "source": [
    "Видим, что предсказанные значения близки к меткам класса"
   ]
  },
  {
   "cell_type": "code",
   "execution_count": 99,
   "metadata": {},
   "outputs": [
    {
     "data": {
      "text/plain": [
       "array([0.00262796, 0.00138683, 0.99750024, 0.00614398, 0.99985194,\n",
       "       0.9948474 , 0.03115384, 0.01185352, 0.06539909, 0.98903614,\n",
       "       0.02333163, 0.00295362, 0.03396957, 0.00563063, 0.0207144 ,\n",
       "       0.03848543, 0.02830145, 0.99701035, 0.02165363, 0.98881257,\n",
       "       0.98697996, 0.99360305, 0.0167891 , 0.02871286, 0.99119145],\n",
       "      dtype=float32)"
      ]
     },
     "execution_count": 99,
     "metadata": {},
     "output_type": "execute_result"
    }
   ],
   "source": [
    "predicted_values"
   ]
  },
  {
   "cell_type": "code",
   "execution_count": 100,
   "metadata": {},
   "outputs": [
    {
     "data": {
      "text/plain": [
       "array([0, 0, 1, 0, 1, 1, 0, 0, 0, 1, 0, 0, 0, 0, 0, 0, 0, 1, 0, 1, 1, 1,\n",
       "       0, 0, 1])"
      ]
     },
     "execution_count": 100,
     "metadata": {},
     "output_type": "execute_result"
    }
   ],
   "source": [
    "y_test"
   ]
  },
  {
   "cell_type": "markdown",
   "metadata": {},
   "source": [
    "График с предсказанными значениями и график с настоящими значениями. Видим, что они не отличаются"
   ]
  },
  {
   "cell_type": "code",
   "execution_count": 102,
   "metadata": {},
   "outputs": [
    {
     "data": {
      "text/plain": [
       "<matplotlib.collections.PathCollection at 0x7f8e4d794a58>"
      ]
     },
     "execution_count": 102,
     "metadata": {},
     "output_type": "execute_result"
    },
    {
     "data": {
      "image/png": "[encoded data removed]",
      "text/plain": [
       "<Figure size 432x288 with 1 Axes>"
      ]
     },
     "metadata": {},
     "output_type": "display_data"
    }
   ],
   "source": [
    "plt.scatter(X_test[:,0], X_test[:,1], c=predicted_values)"
   ]
  },
  {
   "cell_type": "code",
   "execution_count": 103,
   "metadata": {},
   "outputs": [
    {
     "data": {
      "text/plain": [
       "<matplotlib.collections.PathCollection at 0x7f8e4d73e2e8>"
      ]
     },
     "execution_count": 103,
     "metadata": {},
     "output_type": "execute_result"
    },
    {
     "data": {
      "image/png": "[encoded data removed]",
      "text/plain": [
       "<Figure size 432x288 with 1 Axes>"
      ]
     },
     "metadata": {},
     "output_type": "display_data"
    }
   ],
   "source": [
    "plt.scatter(X_test[:,0], X_test[:,1], c=y_test)"
   ]
  },
  {
   "cell_type": "markdown",
   "metadata": {},
   "source": [
    "## Простейший нейрон"
   ]
  },
  {
   "cell_type": "code",
   "execution_count": 73,
   "metadata": {},
   "outputs": [
    {
     "name": "stdout",
     "output_type": "stream",
     "text": [
      "before training y is  1.0\n",
      "loss at iter 0: 1.0000\n",
      "loss at iter 10: 0.3585\n",
      "loss at iter 20: 0.1285\n",
      "loss at iter 30: 0.0461\n",
      "loss at iter 40: 0.0165\n",
      "loss at iter 50: 0.0059\n",
      "loss at iter 60: 0.0021\n",
      "loss at iter 70: 0.0008\n",
      "loss at iter 80: 0.0003\n",
      "loss at iter 90: 0.0001\n",
      "loss at iter 100: 0.0000\n",
      "after training y is  0.005624503\n"
     ]
    }
   ],
   "source": [
    "x = tf.constant(1.0, name='input')\n",
    "w = tf.Variable(1.0, name='weight')\n",
    "y = tf.multiply(w, x, name='output')\n",
    "y_ = tf.constant(0.0, name='correct_value')\n",
    "loss = tf.pow(y - y_, 2, name='loss')\n",
    "train_step = tf.train.GradientDescentOptimizer(0.025).minimize(loss)\n",
    "sess.run(tf.global_variables_initializer())\n",
    "\n",
    "print('before training y is ', y.eval())\n",
    "\n",
    "for i in range(101):\n",
    "    loss_i, _ = sess.run([loss, train_step], {input_x: X_train, input_y: y_train})\n",
    "    if i % 10 == 0:\n",
    "        print(\"loss at iter %i: %.4f\" % (i, loss_i))\n",
    "        \n",
    "        \n",
    "print('after training y is ', y.eval())"
   ]
  },
  {
   "cell_type": "code",
   "execution_count": 74,
   "metadata": {},
   "outputs": [
    {
     "name": "stdout",
     "output_type": "stream",
     "text": [
      "0.005624503\n"
     ]
    }
   ],
   "source": [
    "print(y.eval())"
   ]
  }
 ],
 "metadata": {
  "kernelspec": {
   "display_name": "Python 3",
   "language": "python",
   "name": "python3"
  },
  "language_info": {
   "codemirror_mode": {
    "name": "ipython",
    "version": 3
   },
   "file_extension": ".py",
   "mimetype": "text/x-python",
   "name": "python",
   "nbconvert_exporter": "python",
   "pygments_lexer": "ipython3",
   "version": "3.6.3"
  }
 },
 "nbformat": 4,
 "nbformat_minor": 2
}
